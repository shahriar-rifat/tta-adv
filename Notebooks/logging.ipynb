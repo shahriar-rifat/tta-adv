{
 "cells": [
  {
   "cell_type": "code",
   "execution_count": null,
   "metadata": {},
   "outputs": [],
   "source": [
    "import logging\n",
    "logging.basicConfig(level=logging.INFO)\n",
    "\n",
    "def hypotenuse(a, b):\n",
    "    \"\"\"\n",
    "    Desc: Compute the hypotenuse\n",
    "    \"\"\"\n",
    "    return (a**2 + b**2)**0.5\n",
    "logging.info(\"Hypotenuse of {a}, {b} is {c}\".format(a=3,b=4,c=hypotenuse(a,b)))"
   ]
  },
  {
   "cell_type": "markdown",
   "metadata": {},
   "source": [
    "5 level of logging: \n",
    "\n",
    "1. DEBUG: Detailed Information for diagnosing problems. Value=10\n",
    "2. INFO: Confirm things are working as expected. Value=20\n",
    "3. WARNING: Something unexpected happened, indicative of some problems. Value=30\n",
    "4. ERROR: More Serious Problem. The code is not able to perform some function.Value=40\n",
    "5. CRITICAL: A serious error, the program itself maybe unable to continue running. Value=50\n",
    "\n",
    "\n"
   ]
  },
  {
   "cell_type": "code",
   "execution_count": null,
   "metadata": {},
   "outputs": [],
   "source": [
    "import logging\n",
    "logging.basicConfig(level=logging.INFO, \n",
    "                    format= '%(asctime)s :: %(levelname)s ::%(message)s')\n",
    "logging.info(\"Just like that\")"
   ]
  },
  {
   "cell_type": "code",
   "execution_count": 3,
   "metadata": {},
   "outputs": [],
   "source": [
    "#Create a new custom logger\n",
    "import logging\n",
    "logger = logging.getLogger(__name__)\n",
    "\n",
    "logger.info('my logging message')"
   ]
  },
  {
   "cell_type": "code",
   "execution_count": 1,
   "metadata": {},
   "outputs": [],
   "source": [
    "# create a custom logger filehandler\n",
    "import logging\n",
    "\n",
    "logger = logging.getLogger(__name__)\n",
    "logger.setLevel(logging.INFO)\n",
    "\n",
    "file_handler = logging.FileHandler('logfile.log')\n",
    "formatter = logging.Formatter('%(asctime)s : %(levelname)s : %(name)s : %(message)s')\n",
    "file_handler.setFormatter(formatter)\n",
    "logger.addHandler(file_handler)\n",
    "\n",
    "logger.info('An info message')"
   ]
  },
  {
   "cell_type": "code",
   "execution_count": 4,
   "metadata": {},
   "outputs": [
    {
     "name": "stdout",
     "output_type": "stream",
     "text": [
      "tensor([[ 1.4266, -0.8998, -2.1080,  1.9809],\n",
      "        [-0.2953,  0.5765,  1.3119,  0.1595],\n",
      "        [ 0.4920, -0.0375,  0.3788, -1.1636],\n",
      "        [ 1.4683,  0.3064,  0.8252, -0.4368]])\n"
     ]
    },
    {
     "data": {
      "text/plain": [
       "tensor([3, 2, 0, 0])"
      ]
     },
     "execution_count": 4,
     "metadata": {},
     "output_type": "execute_result"
    }
   ],
   "source": [
    "import torch\n",
    "a = torch.randn(4,4)\n",
    "print(a)\n",
    "a.max(1)[1]"
   ]
  }
 ],
 "metadata": {
  "kernelspec": {
   "display_name": "pytorch",
   "language": "python",
   "name": "python3"
  },
  "language_info": {
   "codemirror_mode": {
    "name": "ipython",
    "version": 3
   },
   "file_extension": ".py",
   "mimetype": "text/x-python",
   "name": "python",
   "nbconvert_exporter": "python",
   "pygments_lexer": "ipython3",
   "version": "3.11.4"
  }
 },
 "nbformat": 4,
 "nbformat_minor": 2
}
